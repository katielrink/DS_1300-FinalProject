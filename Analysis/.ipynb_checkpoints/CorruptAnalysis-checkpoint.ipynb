{
 "cells": [
  {
   "cell_type": "markdown",
   "metadata": {},
   "source": [
    "# Analysis of Corruption Index\n",
    "By Harshal Patel, Sabrina Almazan, Isis Kazadi, Katie Rink"
   ]
  },
  {
   "cell_type": "code",
   "execution_count": 1,
   "metadata": {},
   "outputs": [],
   "source": [
    "#imports\n",
    "import pandas as pd\n",
    "import numpy as np"
   ]
  },
  {
   "cell_type": "markdown",
   "metadata": {},
   "source": [
    "### Creating Datasets\n",
    "Here we will write a brief description of the data sets"
   ]
  },
  {
   "cell_type": "code",
   "execution_count": 2,
   "metadata": {},
   "outputs": [],
   "source": [
    "#Read in Datas\n",
    "CorruptDataFull = pd.read_csv('../Data/Corruption_Index.csv', low_memory=False)"
   ]
  },
  {
   "cell_type": "markdown",
   "metadata": {},
   "source": [
    "### Clean Data\n",
    "Explain decisions we made about countries"
   ]
  },
  {
   "cell_type": "code",
   "execution_count": 3,
   "metadata": {},
   "outputs": [
    {
     "name": "stderr",
     "output_type": "stream",
     "text": [
      "/hpc/applications/anaconda/3/lib/python3.6/site-packages/ipykernel_launcher.py:25: FutureWarning: set_value is deprecated and will be removed in a future release. Please use .at[] or .iat[] accessors instead\n"
     ]
    }
   ],
   "source": [
    "#Only include chosen countries\n",
    "CorruptData = CorruptDataFull[CorruptDataFull['Country'].isin(['Sudan', 'Mexico', 'China', 'Iraq', 'Ethiopia'])]\n",
    "#Only include chosen years\n",
    "CorruptData = CorruptData.filter(regex='2013|2014|2015|2016|2017|2018|2019|2020|Country')\n",
    "#Only looking at CPI score\n",
    "CorruptData = CorruptData.filter(regex='Country|CPI')\n",
    "\n",
    "#Correct Indexes\n",
    "CorruptData = CorruptData.reset_index()\n",
    "\n",
    "#Make header years only\n",
    "CorruptData = CorruptData.rename(columns = lambda x: x.replace('CPI score ', ''))\n",
    "CorruptData = CorruptData.rename(columns = lambda x: x.replace('CPI Score ', ''))\n",
    "CorruptData = CorruptData.rename(columns = lambda x: x.replace(' ', ''))\n",
    "\n",
    "#Create new dataset making year and country columns to graph\n",
    "modified = CorruptData.filter(['Country'], axis=1)\n",
    "modified = pd.concat([modified]*5, ignore_index=True)\n",
    "modified = modified.sort_values(by='Country')\n",
    "modified.insert(1, 'Year', [2013, 2014, 2015, 2016, 2017]*5)\n",
    "modified['CPI Score'] = ''\n",
    "\n",
    "\n",
    "for index, row in modified.iterrows():\n",
    "    modified.set_value(index,'CPI Score', CorruptData.loc[CorruptData['Country'] == row['Country']][str(row['Year'])].values[0])"
   ]
  },
  {
   "cell_type": "markdown",
   "metadata": {},
   "source": [
    "### Corruption Index Analysis\n",
    "Explain what trends we saw in corruption levels"
   ]
  },
  {
   "cell_type": "code",
   "execution_count": 20,
   "metadata": {},
   "outputs": [
    {
     "data": {
      "image/png": "[encoded data removed]",
      "text/plain": [
       "<Figure size 432x288 with 1 Axes>"
      ]
     },
     "metadata": {
      "needs_background": "light"
     },
     "output_type": "display_data"
    }
   ],
   "source": [
    "#Plot Each Country over year of CPI\n",
    "#Datasets based on Country\n",
    "SudanData = modified[modified['Country'].isin(['Sudan'])]\n",
    "MexicoData = modified[modified['Country'].isin(['Mexico'])]\n",
    "ChinaData = modified[modified['Country'].isin(['China'])]\n",
    "IraqData = modified[modified['Country'].isin(['Iraq'])]\n",
    "EthiopiaData = modified[modified['Country'].isin(['Ethiopia'])]\n",
    "\n",
    "\n",
    "#Plot Prices over years based on category\n",
    "ax = SudanData.plot(x='Year', y='CPI Score')\n",
    "ax = MexicoData.plot(ax=ax, x='Year', y='CPI Score')\n",
    "ax = ChinaData.plot(ax=ax, x='Year', y='CPI Score')\n",
    "ax = IraqData.plot(ax=ax, x='Year', y='CPI Score')\n",
    "ax.set_xlabel(\"Year\")\n",
    "ax.set_ylabel(\"Corruption Perception Index\")\n",
    "EthiopiaData.plot(ax=ax, x='Year', y='CPI Score', title=\"CPI Score at Each Year\")\n",
    "ax.legend([\"Sudan\", \"Mexico\", \"China\", \"Iraq\", \"Ethiopia\"]);"
   ]
  },
  {
   "cell_type": "code",
   "execution_count": 43,
   "metadata": {},
   "outputs": [
    {
     "name": "stdout",
     "output_type": "stream",
     "text": [
      "Sudan Mean :  3.552713678800501e-15 \n",
      "Mexico Mean :  3.552713678800501e-15 \n",
      "China Mean :  -1.4210854715202004e-14 \n",
      "Iraq Mean :  7.105427357601002e-15 \n",
      "Ethiopia Mean :  7.105427357601002e-15\n"
     ]
    }
   ],
   "source": [
    "from sklearn import preprocessing\n",
    "from sklearn.linear_model import LinearRegression\n",
    "import matplotlib.pyplot as plt\n",
    "%matplotlib inline \n",
    "\n",
    "#Find the standard deviation of points from the average CPI score\n",
    "#find the mean distance from each CPI score and the average\n",
    "SudanMean, MexicoMean, ChinaMean, IraqMean, EthiopiaMean = 0, 0, 0, 0, 0\n",
    "for val in SudanData['CPI Score']:\n",
    "    SudanMean += (SudanData['CPI Score'].mean() - val)\n",
    "for val in MexicoData['CPI Score']:\n",
    "    MexicoMean += (MexicoData['CPI Score'].mean() - val)\n",
    "for val in ChinaData['CPI Score']:\n",
    "    ChinaMean += (ChinaData['CPI Score'].mean() - val)\n",
    "for val in IraqData['CPI Score']:\n",
    "    IraqMean += (IraqData['CPI Score'].mean() - val)\n",
    "for val in EthiopiaData['CPI Score']:\n",
    "    EthiopiaMean += (EthiopiaData['CPI Score'].mean() - val)\n",
    "print(\"Sudan Mean : \", SudanMean, \"\\nMexico Mean : \", MexicoMean, \"\\nChina Mean : \", ChinaMean, \"\\nIraq Mean : \", IraqMean, \"\\nEthiopia Mean : \", EthiopiaMean)"
   ]
  },
  {
   "cell_type": "code",
   "execution_count": null,
   "metadata": {},
   "outputs": [],
   "source": []
  }
 ],
 "metadata": {
  "kernelspec": {
   "display_name": "Python 3",
   "language": "python",
   "name": "python3"
  },
  "language_info": {
   "codemirror_mode": {
    "name": "ipython",
    "version": 3
   },
   "file_extension": ".py",
   "mimetype": "text/x-python",
   "name": "python",
   "nbconvert_exporter": "python",
   "pygments_lexer": "ipython3",
   "version": "3.6.7"
  }
 },
 "nbformat": 4,
 "nbformat_minor": 4
}
