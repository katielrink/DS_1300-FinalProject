{
 "cells": [
  {
   "cell_type": "markdown",
   "metadata": {},
   "source": [
    "# Correlation Between Corruption and Food Prices\n",
    "By Harshal Patel, Sabrina Almazan, Isis Kazadi, Katie Rink"
   ]
  },
  {
   "cell_type": "markdown",
   "metadata": {},
   "source": [
    "Here we will write what we are attempting to do"
   ]
  },
  {
   "cell_type": "code",
   "execution_count": 7,
   "metadata": {},
   "outputs": [],
   "source": [
    "#imports\n",
    "import pandas as pd\n",
    "import numpy as np"
   ]
  },
  {
   "cell_type": "markdown",
   "metadata": {},
   "source": [
    "### Creating Datasets\n",
    "Here we will write a brief description of the data sets"
   ]
  },
  {
   "cell_type": "code",
   "execution_count": 2,
   "metadata": {},
   "outputs": [],
   "source": [
    "#Read in Data\n",
    "PriceData = pd.read_csv('../Data/global_food_prices.csv', low_memory=False)\n",
    "CorruptData = pd.read_csv('../Data/Corruption_Index.csv', low_memory=False)\n",
    "Categories = pd.read_csv('../Data/FoodTypes.csv', low_memory=False)"
   ]
  },
  {
   "cell_type": "markdown",
   "metadata": {},
   "source": [
    "### Clean Data\n",
    "Explain decisions we made about countries"
   ]
  },
  {
   "cell_type": "code",
   "execution_count": 3,
   "metadata": {},
   "outputs": [],
   "source": [
    "#Put all values to lower case\n",
    "PriceData = PriceData.applymap(lambda s: s.lower() if type(s) == str else s)\n",
    "CorruptData = CorruptData.applymap(lambda s: s.lower() if type(s) == str else s)\n",
    "Categories = Categories.applymap(lambda s: s.lower() if type(s) == str else s)\n",
    "#Shorten the names of the cm_name\n",
    "PriceData['cm_name'] = PriceData['cm_name'].str.split(' -').str.get(0)\n",
    "#Only include chosen countries\n",
    "PriceData = PriceData[PriceData['adm0_name'].isin(['sudan', 'mexico', 'china', 'iraq', 'ethiopia'])]\n",
    "CorruptData = CorruptData[CorruptData['Country'].isin(['sudan', 'mexico', 'china', 'iraq', 'ethiopia'])]"
   ]
  },
  {
   "cell_type": "code",
   "execution_count": 4,
   "metadata": {},
   "outputs": [
    {
     "data": {
      "text/html": [
       "<div>\n",
       "<style scoped>\n",
       "    .dataframe tbody tr th:only-of-type {\n",
       "        vertical-align: middle;\n",
       "    }\n",
       "\n",
       "    .dataframe tbody tr th {\n",
       "        vertical-align: top;\n",
       "    }\n",
       "\n",
       "    .dataframe thead th {\n",
       "        text-align: right;\n",
       "    }\n",
       "</style>\n",
       "<table border=\"1\" class=\"dataframe\">\n",
       "  <thead>\n",
       "    <tr style=\"text-align: right;\">\n",
       "      <th></th>\n",
       "      <th>adm0_id</th>\n",
       "      <th>adm0_name</th>\n",
       "      <th>adm1_id</th>\n",
       "      <th>adm1_name</th>\n",
       "      <th>mkt_id</th>\n",
       "      <th>mkt_name</th>\n",
       "      <th>cm_id</th>\n",
       "      <th>cm_name</th>\n",
       "      <th>cur_id</th>\n",
       "      <th>cur_name</th>\n",
       "      <th>pt_id</th>\n",
       "      <th>pt_name</th>\n",
       "      <th>um_id</th>\n",
       "      <th>um_name</th>\n",
       "      <th>mp_month</th>\n",
       "      <th>mp_year</th>\n",
       "      <th>mp_price</th>\n",
       "      <th>mp_commoditysource</th>\n",
       "    </tr>\n",
       "  </thead>\n",
       "  <tbody>\n",
       "    <tr>\n",
       "      <th>417258</th>\n",
       "      <td>52.0</td>\n",
       "      <td>china</td>\n",
       "      <td>907</td>\n",
       "      <td>hebei sheng</td>\n",
       "      <td>2605</td>\n",
       "      <td>sijiazhuang</td>\n",
       "      <td>84</td>\n",
       "      <td>wheat</td>\n",
       "      <td>0.0</td>\n",
       "      <td>cny</td>\n",
       "      <td>14</td>\n",
       "      <td>wholesale</td>\n",
       "      <td>5</td>\n",
       "      <td>kg</td>\n",
       "      <td>1</td>\n",
       "      <td>2014</td>\n",
       "      <td>2.6567</td>\n",
       "      <td>NaN</td>\n",
       "    </tr>\n",
       "    <tr>\n",
       "      <th>417259</th>\n",
       "      <td>52.0</td>\n",
       "      <td>china</td>\n",
       "      <td>907</td>\n",
       "      <td>hebei sheng</td>\n",
       "      <td>2605</td>\n",
       "      <td>sijiazhuang</td>\n",
       "      <td>84</td>\n",
       "      <td>wheat</td>\n",
       "      <td>0.0</td>\n",
       "      <td>cny</td>\n",
       "      <td>14</td>\n",
       "      <td>wholesale</td>\n",
       "      <td>5</td>\n",
       "      <td>kg</td>\n",
       "      <td>2</td>\n",
       "      <td>2014</td>\n",
       "      <td>2.6100</td>\n",
       "      <td>NaN</td>\n",
       "    </tr>\n",
       "    <tr>\n",
       "      <th>417260</th>\n",
       "      <td>52.0</td>\n",
       "      <td>china</td>\n",
       "      <td>907</td>\n",
       "      <td>hebei sheng</td>\n",
       "      <td>2605</td>\n",
       "      <td>sijiazhuang</td>\n",
       "      <td>84</td>\n",
       "      <td>wheat</td>\n",
       "      <td>0.0</td>\n",
       "      <td>cny</td>\n",
       "      <td>14</td>\n",
       "      <td>wholesale</td>\n",
       "      <td>5</td>\n",
       "      <td>kg</td>\n",
       "      <td>3</td>\n",
       "      <td>2014</td>\n",
       "      <td>2.6160</td>\n",
       "      <td>NaN</td>\n",
       "    </tr>\n",
       "    <tr>\n",
       "      <th>417261</th>\n",
       "      <td>52.0</td>\n",
       "      <td>china</td>\n",
       "      <td>907</td>\n",
       "      <td>hebei sheng</td>\n",
       "      <td>2605</td>\n",
       "      <td>sijiazhuang</td>\n",
       "      <td>84</td>\n",
       "      <td>wheat</td>\n",
       "      <td>0.0</td>\n",
       "      <td>cny</td>\n",
       "      <td>14</td>\n",
       "      <td>wholesale</td>\n",
       "      <td>5</td>\n",
       "      <td>kg</td>\n",
       "      <td>4</td>\n",
       "      <td>2014</td>\n",
       "      <td>2.5700</td>\n",
       "      <td>NaN</td>\n",
       "    </tr>\n",
       "    <tr>\n",
       "      <th>417262</th>\n",
       "      <td>52.0</td>\n",
       "      <td>china</td>\n",
       "      <td>907</td>\n",
       "      <td>hebei sheng</td>\n",
       "      <td>2605</td>\n",
       "      <td>sijiazhuang</td>\n",
       "      <td>84</td>\n",
       "      <td>wheat</td>\n",
       "      <td>0.0</td>\n",
       "      <td>cny</td>\n",
       "      <td>14</td>\n",
       "      <td>wholesale</td>\n",
       "      <td>5</td>\n",
       "      <td>kg</td>\n",
       "      <td>5</td>\n",
       "      <td>2014</td>\n",
       "      <td>2.5400</td>\n",
       "      <td>NaN</td>\n",
       "    </tr>\n",
       "  </tbody>\n",
       "</table>\n",
       "</div>"
      ],
      "text/plain": [
       "        adm0_id adm0_name  adm1_id    adm1_name  mkt_id     mkt_name  cm_id  \\\n",
       "417258     52.0     china      907  hebei sheng    2605  sijiazhuang     84   \n",
       "417259     52.0     china      907  hebei sheng    2605  sijiazhuang     84   \n",
       "417260     52.0     china      907  hebei sheng    2605  sijiazhuang     84   \n",
       "417261     52.0     china      907  hebei sheng    2605  sijiazhuang     84   \n",
       "417262     52.0     china      907  hebei sheng    2605  sijiazhuang     84   \n",
       "\n",
       "       cm_name  cur_id cur_name  pt_id    pt_name  um_id um_name  mp_month  \\\n",
       "417258   wheat     0.0      cny     14  wholesale      5      kg         1   \n",
       "417259   wheat     0.0      cny     14  wholesale      5      kg         2   \n",
       "417260   wheat     0.0      cny     14  wholesale      5      kg         3   \n",
       "417261   wheat     0.0      cny     14  wholesale      5      kg         4   \n",
       "417262   wheat     0.0      cny     14  wholesale      5      kg         5   \n",
       "\n",
       "        mp_year  mp_price  mp_commoditysource  \n",
       "417258     2014    2.6567                 NaN  \n",
       "417259     2014    2.6100                 NaN  \n",
       "417260     2014    2.6160                 NaN  \n",
       "417261     2014    2.5700                 NaN  \n",
       "417262     2014    2.5400                 NaN  "
      ]
     },
     "execution_count": 4,
     "metadata": {},
     "output_type": "execute_result"
    }
   ],
   "source": [
    "#Merge Datasets together for futher analysis\n",
    "PriceData.head()"
   ]
  },
  {
   "cell_type": "markdown",
   "metadata": {},
   "source": [
    "### Break Up into Analysis\n",
    "Explain why we chose to analyze our individual parts"
   ]
  },
  {
   "cell_type": "code",
   "execution_count": 5,
   "metadata": {},
   "outputs": [],
   "source": [
    "#Datasets based on Food Categories\n",
    "DairyData = PriceData[PriceData['cm_name'].isin(Categories['Dairy'])] #Dairy Dataset\n",
    "MeatData = PriceData[PriceData['cm_name'].isin(Categories['Meat'])] #Meat Dataset\n",
    "GrainsData = PriceData[PriceData['cm_name'].isin(Categories['Grains'])] #Grains Dataset\n",
    "VegData = PriceData[PriceData['cm_name'].isin(Categories['Fruits/Vegetables'])] #Vegtable/Fruits Dataset"
   ]
  },
  {
   "cell_type": "code",
   "execution_count": 6,
   "metadata": {},
   "outputs": [],
   "source": [
    "#Datasets based on years\n",
    "FirstYearsData = PriceData[PriceData['mp_year'].isin([2013, 2014])] #2013-2014 Prices\n",
    "SecondYearsData = PriceData[PriceData['mp_year'].isin([2015, 2016])] #2015-2016 Prices\n",
    "ThirdYearsData = PriceData[PriceData['mp_year'].isin([2017, 2018])] #2017-2018 Prices\n",
    "FourthYearsData = PriceData[PriceData['mp_year'].isin([2019, 2020])] #2019-2020 Prices"
   ]
  },
  {
   "cell_type": "code",
   "execution_count": null,
   "metadata": {},
   "outputs": [],
   "source": []
  }
 ],
 "metadata": {
  "kernelspec": {
   "display_name": "Python 3",
   "language": "python",
   "name": "python3"
  },
  "language_info": {
   "codemirror_mode": {
    "name": "ipython",
    "version": 3
   },
   "file_extension": ".py",
   "mimetype": "text/x-python",
   "name": "python",
   "nbconvert_exporter": "python",
   "pygments_lexer": "ipython3",
   "version": "3.6.7"
  }
 },
 "nbformat": 4,
 "nbformat_minor": 4
}
