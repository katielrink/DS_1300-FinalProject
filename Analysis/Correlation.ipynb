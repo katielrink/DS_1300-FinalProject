{
 "cells": [
  {
   "cell_type": "markdown",
   "metadata": {},
   "source": [
    "# Correlation Between Corruption and Food Prices\n",
    "By Harshal Patel, Sabrina Almazan, Isis Kazadi, Katie Rink"
   ]
  },
  {
   "cell_type": "markdown",
   "metadata": {},
   "source": [
    "Here we will write what we are attempting to do"
   ]
  },
  {
   "cell_type": "code",
   "execution_count": 8,
   "metadata": {},
   "outputs": [],
   "source": [
    "#imports\n",
    "import pandas as pd\n",
    "import numpy as np"
   ]
  },
  {
   "cell_type": "markdown",
   "metadata": {},
   "source": [
    "### Creating Datasets\n",
    "To find the correlation, if any, between the corruption levels in the government and the food prices in the country, we found a dataset of the FAO Food Price Index from the Food and Agriculture Organization of the United States. Within this dataset, we can find information about Country, the location within the country, the market name, the name of the item being sold, the price, and the date. Each data point is taken monthly from the years between 2013 to 2020. From this data, we will only utilize the Country, name, price, and date of each item. \n",
    "Additionally we utilized the Corruption Perception Index from Transparency International. From this dataset, we gain information on the country and region, the corruption perception index score, the rank, the number of sources, and the standard error for every year from 2020-2012. From this data, we will only utilize the Country and the CPI score."
   ]
  },
  {
   "cell_type": "code",
   "execution_count": 9,
   "metadata": {},
   "outputs": [],
   "source": [
    "#Read in Data\n",
    "PriceData = pd.read_csv('../Data/global_food_prices.csv', low_memory=False)\n",
    "CorruptData = pd.read_csv('../Data/Corruption_Index.csv', low_memory=False)\n",
    "Categories = pd.read_csv('../Data/FoodTypes.csv', low_memory=False)"
   ]
  },
  {
   "cell_type": "markdown",
   "metadata": {},
   "source": [
    "### Clean Data\n",
    "In order to assume that the data we analyzed was an accurate sample to be able to draw a conclusion from about all countries. By cross-referencing the CPI-scores with our data on prices, we chose to use Sudan, Mexico, China, Iraq, and Ethiopia, due to their corruption levels being well spread to allow a full range of understanding of corruption’s effect. "
   ]
  },
  {
   "cell_type": "code",
   "execution_count": 10,
   "metadata": {},
   "outputs": [
    {
     "data": {
      "text/html": [
       "<div>\n",
       "<style scoped>\n",
       "    .dataframe tbody tr th:only-of-type {\n",
       "        vertical-align: middle;\n",
       "    }\n",
       "\n",
       "    .dataframe tbody tr th {\n",
       "        vertical-align: top;\n",
       "    }\n",
       "\n",
       "    .dataframe thead th {\n",
       "        text-align: right;\n",
       "    }\n",
       "</style>\n",
       "<table border=\"1\" class=\"dataframe\">\n",
       "  <thead>\n",
       "    <tr style=\"text-align: right;\">\n",
       "      <th></th>\n",
       "      <th>Country_ID</th>\n",
       "      <th>Country</th>\n",
       "      <th>Item_ID</th>\n",
       "      <th>Item</th>\n",
       "      <th>price</th>\n",
       "      <th>date</th>\n",
       "      <th>Year</th>\n",
       "    </tr>\n",
       "  </thead>\n",
       "  <tbody>\n",
       "    <tr>\n",
       "      <th>417258</th>\n",
       "      <td>52.0</td>\n",
       "      <td>china</td>\n",
       "      <td>84</td>\n",
       "      <td>wheat</td>\n",
       "      <td>2.6567</td>\n",
       "      <td>2014-01-01</td>\n",
       "      <td>2014</td>\n",
       "    </tr>\n",
       "    <tr>\n",
       "      <th>417259</th>\n",
       "      <td>52.0</td>\n",
       "      <td>china</td>\n",
       "      <td>84</td>\n",
       "      <td>wheat</td>\n",
       "      <td>2.6100</td>\n",
       "      <td>2014-02-01</td>\n",
       "      <td>2014</td>\n",
       "    </tr>\n",
       "    <tr>\n",
       "      <th>417260</th>\n",
       "      <td>52.0</td>\n",
       "      <td>china</td>\n",
       "      <td>84</td>\n",
       "      <td>wheat</td>\n",
       "      <td>2.6160</td>\n",
       "      <td>2014-03-01</td>\n",
       "      <td>2014</td>\n",
       "    </tr>\n",
       "    <tr>\n",
       "      <th>417261</th>\n",
       "      <td>52.0</td>\n",
       "      <td>china</td>\n",
       "      <td>84</td>\n",
       "      <td>wheat</td>\n",
       "      <td>2.5700</td>\n",
       "      <td>2014-04-01</td>\n",
       "      <td>2014</td>\n",
       "    </tr>\n",
       "    <tr>\n",
       "      <th>417262</th>\n",
       "      <td>52.0</td>\n",
       "      <td>china</td>\n",
       "      <td>84</td>\n",
       "      <td>wheat</td>\n",
       "      <td>2.5400</td>\n",
       "      <td>2014-05-01</td>\n",
       "      <td>2014</td>\n",
       "    </tr>\n",
       "  </tbody>\n",
       "</table>\n",
       "</div>"
      ],
      "text/plain": [
       "        Country_ID Country  Item_ID   Item   price       date  Year\n",
       "417258        52.0   china       84  wheat  2.6567 2014-01-01  2014\n",
       "417259        52.0   china       84  wheat  2.6100 2014-02-01  2014\n",
       "417260        52.0   china       84  wheat  2.6160 2014-03-01  2014\n",
       "417261        52.0   china       84  wheat  2.5700 2014-04-01  2014\n",
       "417262        52.0   china       84  wheat  2.5400 2014-05-01  2014"
      ]
     },
     "execution_count": 10,
     "metadata": {},
     "output_type": "execute_result"
    }
   ],
   "source": [
    "#Cleaning Values for Price Data\n",
    "#Combine months and years into Date column\n",
    "PriceData[\"date\"] = pd.to_datetime(PriceData.mp_year.astype(str) + '/' + PriceData.mp_month.astype(str) + '/01')\n",
    "#Only include chosen countries\n",
    "PriceData = PriceData[PriceData['adm0_name'].isin(['Sudan', 'Mexico', 'China', 'Iraq', 'Ethiopia'])]\n",
    "#Only include Chosen Years\n",
    "PriceData = PriceData[PriceData[\"date\"].isin(pd.date_range('2013-01-01','2021-01-01'))]\n",
    "\n",
    "#Drop unused columns\n",
    "PriceData = PriceData.drop('mp_year', 1)\n",
    "PriceData = PriceData.drop('mp_month', 1)\n",
    "PriceData = PriceData.drop('adm1_id', 1)\n",
    "PriceData = PriceData.drop('adm1_name', 1)\n",
    "PriceData = PriceData.drop('mkt_id', 1)\n",
    "PriceData = PriceData.drop('mkt_name', 1)\n",
    "PriceData = PriceData.drop('cur_id', 1)\n",
    "PriceData = PriceData.drop('cur_name', 1)\n",
    "PriceData = PriceData.drop('pt_id', 1)\n",
    "PriceData = PriceData.drop('pt_name', 1)\n",
    "PriceData = PriceData.drop('um_id', 1)\n",
    "PriceData = PriceData.drop('um_name', 1)\n",
    "PriceData = PriceData.drop('mp_commoditysource', 1)\n",
    "#Put all values to lower case\n",
    "PriceData = PriceData.applymap(lambda s: s.lower() if type(s) == str else s)\n",
    "Categories = Categories.applymap(lambda s: s.lower() if type(s) == str else s)\n",
    "#Shorten the names of the cm_name\n",
    "PriceData['cm_name'] = PriceData['cm_name'].str.split(' -').str.get(0)\n",
    "PriceData['cm_name'] = PriceData['cm_name'].str.split(' \\(').str.get(0)\n",
    "#Shorten all names in food types list\n",
    "Categories['Fruits/Vegetables'] = Categories['Fruits/Vegetables'].str.split(' \\(').str.get(0)\n",
    "Categories['Dairy'] = Categories['Dairy'].str.split(' \\(').str.get(0)\n",
    "Categories['Grains'] = Categories['Grains'].str.split(' \\(').str.get(0)\n",
    "Categories['Meat'] = Categories['Meat'].str.split(' \\(').str.get(0)\n",
    "#renaming column headers to more understandable\n",
    "PriceData.rename(columns={'adm0_id': 'Country_ID', 'adm0_name': 'Country', 'cm_id':'Item_ID','cm_name':'Item','mp_price':'price'}, inplace=True)\n",
    "\n",
    "#Create a value of year value to allow merge\n",
    "PriceData['Year'] = pd.DatetimeIndex(PriceData['date']).year\n",
    "\n",
    "PriceData.head()"
   ]
  },
  {
   "cell_type": "code",
   "execution_count": 11,
   "metadata": {},
   "outputs": [
    {
     "name": "stderr",
     "output_type": "stream",
     "text": [
      "/hpc/applications/anaconda/3/lib/python3.6/site-packages/ipykernel_launcher.py:27: FutureWarning: set_value is deprecated and will be removed in a future release. Please use .at[] or .iat[] accessors instead\n"
     ]
    },
    {
     "data": {
      "text/html": [
       "<div>\n",
       "<style scoped>\n",
       "    .dataframe tbody tr th:only-of-type {\n",
       "        vertical-align: middle;\n",
       "    }\n",
       "\n",
       "    .dataframe tbody tr th {\n",
       "        vertical-align: top;\n",
       "    }\n",
       "\n",
       "    .dataframe thead th {\n",
       "        text-align: right;\n",
       "    }\n",
       "</style>\n",
       "<table border=\"1\" class=\"dataframe\">\n",
       "  <thead>\n",
       "    <tr style=\"text-align: right;\">\n",
       "      <th></th>\n",
       "      <th>Country</th>\n",
       "      <th>Year</th>\n",
       "      <th>CPI Score</th>\n",
       "    </tr>\n",
       "  </thead>\n",
       "  <tbody>\n",
       "    <tr>\n",
       "      <th>0</th>\n",
       "      <td>china</td>\n",
       "      <td>2013</td>\n",
       "      <td>40</td>\n",
       "    </tr>\n",
       "    <tr>\n",
       "      <th>30</th>\n",
       "      <td>china</td>\n",
       "      <td>2014</td>\n",
       "      <td>36</td>\n",
       "    </tr>\n",
       "    <tr>\n",
       "      <th>25</th>\n",
       "      <td>china</td>\n",
       "      <td>2015</td>\n",
       "      <td>37</td>\n",
       "    </tr>\n",
       "    <tr>\n",
       "      <th>5</th>\n",
       "      <td>china</td>\n",
       "      <td>2016</td>\n",
       "      <td>40</td>\n",
       "    </tr>\n",
       "    <tr>\n",
       "      <th>20</th>\n",
       "      <td>china</td>\n",
       "      <td>2017</td>\n",
       "      <td>41</td>\n",
       "    </tr>\n",
       "  </tbody>\n",
       "</table>\n",
       "</div>"
      ],
      "text/plain": [
       "   Country  Year CPI Score\n",
       "0    china  2013        40\n",
       "30   china  2014        36\n",
       "25   china  2015        37\n",
       "5    china  2016        40\n",
       "20   china  2017        41"
      ]
     },
     "execution_count": 11,
     "metadata": {},
     "output_type": "execute_result"
    }
   ],
   "source": [
    "#Cleaning Data for corruptiong index\n",
    "#Only include chosen countries\n",
    "CorruptData = CorruptData[CorruptData['Country'].isin(['Sudan', 'Mexico', 'China', 'Iraq', 'Ethiopia'])]\n",
    "#Only include chosen years\n",
    "CorruptData = CorruptData.filter(regex='2013|2014|2015|2016|2017|2018|2019|2020|Country')\n",
    "#Only looking at CPI score\n",
    "CorruptData = CorruptData.filter(regex='Country|CPI')\n",
    "#Make all values lower case\n",
    "CorruptData = CorruptData.applymap(lambda s: s.lower() if type(s) == str else s)\n",
    "\n",
    "#Correct Indexes\n",
    "CorruptData = CorruptData.reset_index()\n",
    "\n",
    "#Make header years only\n",
    "CorruptData = CorruptData.rename(columns = lambda x: x.replace('CPI score ', ''))\n",
    "CorruptData = CorruptData.rename(columns = lambda x: x.replace('CPI Score ', ''))\n",
    "CorruptData = CorruptData.rename(columns = lambda x: x.replace(' ', ''))\n",
    "\n",
    "#Create new dataset making year and country columns to graph\n",
    "modified = CorruptData.filter(['Country'], axis=1)\n",
    "modified = pd.concat([modified]*8, ignore_index=True)\n",
    "modified = modified.sort_values(by='Country')\n",
    "modified.insert(1, 'Year', [2013, 2014, 2015, 2016, 2017,2018,2019,2020]*5)\n",
    "modified['CPI Score'] = ''\n",
    "\n",
    "for index, row in modified.iterrows():\n",
    "    modified.set_value(index,'CPI Score', CorruptData.loc[CorruptData['Country'] == row['Country']][str(row['Year'])].values[0])\n",
    "    \n",
    "modified.head()"
   ]
  },
  {
   "cell_type": "code",
   "execution_count": 12,
   "metadata": {},
   "outputs": [],
   "source": [
    "#Merge Datasets together for futher analysis\n",
    "MergedData = pd.merge(PriceData, modified, on=['Country','Year'])"
   ]
  },
  {
   "cell_type": "markdown",
   "metadata": {},
   "source": [
    "### Overall Analysis\n",
    "As we can see from the general trends, the CPI score tends to stay fairly constant, whereas the price does not. However, due to the massive difference in the size of the values, it is hard to see any correlation on the graphs. So we calculated the pairwise correlation between each of the values using the Pearson method. Given that a perfect correlation is equivalent to 1, we can see that China, Ethiopia, and Iraq all have relatively high correlations between their CPI score and their average price. Whereas Mexico has a very low correlation. Given the two that did not have high correlation levels, both had relatively high export rates, which can cause an increase in demand to allow prices to remain lower despite high corruption levels. Thus there does appear to be some form of correlation between increased corruption levels in a country’s government and increased prices of products from said country."
   ]
  },
  {
   "cell_type": "code",
   "execution_count": 13,
   "metadata": {},
   "outputs": [],
   "source": [
    "#Datasets based on Country\n",
    "SudanData = MergedData[MergedData['Country'].isin(['sudan'])]\n",
    "MexicoData = MergedData[MergedData['Country'].isin(['mexico'])]\n",
    "ChinaData = MergedData[MergedData['Country'].isin(['china'])]\n",
    "IraqData = MergedData[MergedData['Country'].isin(['iraq'])]\n",
    "EthiopiaData = MergedData[MergedData['Country'].isin(['ethiopia'])]\n",
    "\n",
    "#Get Average Price\n",
    "SudanData =  SudanData.groupby('Year', as_index=False).agg({'price': 'mean', 'CPI Score': 'first', 'Country': 'first'})\n",
    "MexicoData = MexicoData.groupby('Year', as_index=False).agg({'price': 'mean', 'CPI Score': 'first', 'Country': 'first'})\n",
    "ChinaData = ChinaData.groupby('Year', as_index=False).agg({'price': 'mean', 'CPI Score': 'first', 'Country': 'first'})\n",
    "IraqData = IraqData.groupby('Year', as_index=False).agg({'price': 'mean', 'CPI Score': 'first', 'Country': 'first'})\n",
    "EthiopiaData = EthiopiaData.groupby('Year', as_index=False).agg({'price': 'mean', 'CPI Score': 'first', 'Country': 'first'})"
   ]
  },
  {
   "cell_type": "code",
   "execution_count": 14,
   "metadata": {},
   "outputs": [
    {
     "data": {
      "text/plain": [
<<<<<<< HEAD
       "Text(0,0.5,'Average Value')"
=======
       "<matplotlib.axes._subplots.AxesSubplot at 0x2aaad3b15438>"
>>>>>>> 40e6b8a735cbbb04d10162b81f8530cdfeff12f6
      ]
     },
     "execution_count": 14,
     "metadata": {},
     "output_type": "execute_result"
    },
    {
     "data": {
      "image/png": "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\n",
      "text/plain": [
       "<Figure size 432x288 with 1 Axes>"
      ]
     },
     "metadata": {
      "needs_background": "light"
     },
     "output_type": "display_data"
    }
   ],
   "source": [
    "#Plot Sudan Correlation between CPI and Price\n",
    "ax = SudanData.plot(x='Year', y=['CPI Score','price'], title = 'CPI Score vs Price for Sudan')\n",
    "ax.set_xlabel(\"Year\")\n",
    "ax.set_ylabel(\"Average Value\")"
   ]
  },
  {
   "cell_type": "code",
   "execution_count": 24,
   "metadata": {},
   "outputs": [
    {
     "name": "stdout",
     "output_type": "stream",
     "text": [
      "0.5596417936865866\n"
     ]
    }
   ],
   "source": [
    "#Check for Correlation\n",
    "column_1 = SudanData[\"CPI Score\"]\n",
    "column_2 = SudanData[\"price\"]\n",
    "correlation = column_1.corr(column_2)\n",
    "print(correlation)"
   ]
  },
  {
   "cell_type": "code",
<<<<<<< HEAD
   "execution_count": 16,
=======
   "execution_count": 15,
>>>>>>> 40e6b8a735cbbb04d10162b81f8530cdfeff12f6
   "metadata": {},
   "outputs": [
    {
     "data": {
      "text/plain": [
<<<<<<< HEAD
       "Text(0,0.5,'Average Value')"
      ]
     },
     "execution_count": 16,
=======
       "<matplotlib.axes._subplots.AxesSubplot at 0x2aaad3b975f8>"
      ]
     },
     "execution_count": 15,
>>>>>>> 40e6b8a735cbbb04d10162b81f8530cdfeff12f6
     "metadata": {},
     "output_type": "execute_result"
    },
    {
     "data": {
      "image/png": "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\n",
      "text/plain": [
       "<Figure size 432x288 with 1 Axes>"
      ]
     },
     "metadata": {
      "needs_background": "light"
     },
     "output_type": "display_data"
    }
   ],
   "source": [
    "#Plot Mexico Correlation between CPI and Price\n",
    "ax = MexicoData.plot(x='Year', y=['CPI Score','price'], title = 'CPI Score vs Price for Mexico')\n",
    "ax.set_xlabel(\"Year\")\n",
    "ax.set_ylabel(\"Average Value\")"
   ]
  },
  {
   "cell_type": "code",
   "execution_count": 23,
   "metadata": {},
   "outputs": [
    {
     "name": "stdout",
     "output_type": "stream",
     "text": [
      "-0.38839178996677165\n"
     ]
    }
   ],
   "source": [
    "#Check for Correlation\n",
    "column_1 = MexicoData[\"CPI Score\"]\n",
    "column_2 = MexicoData[\"price\"]\n",
    "correlation = column_1.corr(column_2)\n",
    "print(correlation)"
   ]
  },
  {
   "cell_type": "code",
<<<<<<< HEAD
   "execution_count": 17,
=======
   "execution_count": 16,
>>>>>>> 40e6b8a735cbbb04d10162b81f8530cdfeff12f6
   "metadata": {},
   "outputs": [
    {
     "data": {
      "text/plain": [
<<<<<<< HEAD
       "Text(0,0.5,'Average Value')"
      ]
     },
     "execution_count": 17,
=======
       "<matplotlib.axes._subplots.AxesSubplot at 0x2aaad3c0c6a0>"
      ]
     },
     "execution_count": 16,
>>>>>>> 40e6b8a735cbbb04d10162b81f8530cdfeff12f6
     "metadata": {},
     "output_type": "execute_result"
    },
    {
     "data": {
      "image/png": "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\n",
      "text/plain": [
       "<Figure size 432x288 with 1 Axes>"
      ]
     },
     "metadata": {
      "needs_background": "light"
     },
     "output_type": "display_data"
    }
   ],
   "source": [
    "#Plot China Correlation between CPI and Price\n",
    "ax = ChinaData.plot(x='Year', y=['CPI Score','price'], title = 'CPI Score vs Price for China')\n",
    "ax.set_xlabel(\"Year\")\n",
    "ax.set_ylabel(\"Average Value\")"
   ]
  },
  {
   "cell_type": "code",
<<<<<<< HEAD
   "execution_count": 22,
   "metadata": {},
   "outputs": [
    {
     "name": "stdout",
     "output_type": "stream",
     "text": [
      "-0.9113634869979309\n"
     ]
    }
   ],
   "source": [
    "#Check for Correlation\n",
    "column_1 = ChinaData[\"CPI Score\"]\n",
    "column_2 = ChinaData[\"price\"]\n",
    "correlation = column_1.corr(column_2)\n",
    "print(correlation)"
   ]
  },
  {
   "cell_type": "code",
   "execution_count": 18,
=======
   "execution_count": 17,
>>>>>>> 40e6b8a735cbbb04d10162b81f8530cdfeff12f6
   "metadata": {},
   "outputs": [
    {
     "data": {
      "text/plain": [
<<<<<<< HEAD
       "Text(0,0.5,'Average Value')"
      ]
     },
     "execution_count": 18,
=======
       "<matplotlib.axes._subplots.AxesSubplot at 0x2aaad3c7eb38>"
      ]
     },
     "execution_count": 17,
>>>>>>> 40e6b8a735cbbb04d10162b81f8530cdfeff12f6
     "metadata": {},
     "output_type": "execute_result"
    },
    {
     "data": {
      "image/png": "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\n",
      "text/plain": [
       "<Figure size 432x288 with 1 Axes>"
      ]
     },
     "metadata": {
      "needs_background": "light"
     },
     "output_type": "display_data"
    }
   ],
   "source": [
    "#Plot Iraq Correlation between CPI and Price\n",
    "ax = IraqData.plot(x='Year', y=['CPI Score','price'], title = 'CPI Score vs Price for Iraq')\n",
    "ax.set_xlabel(\"Year\")\n",
    "ax.set_ylabel(\"Average Value\")"
   ]
  },
  {
   "cell_type": "code",
   "execution_count": 21,
   "metadata": {},
   "outputs": [
    {
     "name": "stdout",
     "output_type": "stream",
     "text": [
      "0.8117274052138735\n"
     ]
    }
   ],
   "source": [
    "#Check for Correlation\n",
    "column_1 = IraqData[\"CPI Score\"]\n",
    "column_2 = IraqData[\"price\"]\n",
    "correlation = column_1.corr(column_2)\n",
    "print(correlation)"
   ]
  },
  {
   "cell_type": "code",
<<<<<<< HEAD
   "execution_count": 19,
=======
   "execution_count": 18,
>>>>>>> 40e6b8a735cbbb04d10162b81f8530cdfeff12f6
   "metadata": {},
   "outputs": [
    {
     "data": {
      "text/plain": [
<<<<<<< HEAD
       "Text(0,0.5,'Average Value')"
      ]
     },
     "execution_count": 19,
=======
       "<matplotlib.axes._subplots.AxesSubplot at 0x2aaad3cdbba8>"
      ]
     },
     "execution_count": 18,
>>>>>>> 40e6b8a735cbbb04d10162b81f8530cdfeff12f6
     "metadata": {},
     "output_type": "execute_result"
    },
    {
     "data": {
      "image/png": "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\n",
      "text/plain": [
       "<Figure size 432x288 with 1 Axes>"
      ]
     },
     "metadata": {
      "needs_background": "light"
     },
     "output_type": "display_data"
    }
   ],
   "source": [
    "#Plot Ethiopia Correlation between CPI and Price\n",
    "ax = EthiopiaData.plot(x='Year', y=['CPI Score','price'], title = 'CPI Score vs Price for Ethiopia')\n",
    "ax.set_xlabel(\"Year\")\n",
    "ax.set_ylabel(\"Average Value\")"
   ]
  },
  {
   "cell_type": "code",
   "execution_count": 20,
   "metadata": {},
   "outputs": [
    {
     "name": "stdout",
     "output_type": "stream",
     "text": [
      "0.8760659818945472\n"
     ]
    }
   ],
   "source": [
    "#Check for Correlation\n",
    "column_1 = EthiopiaData[\"CPI Score\"]\n",
    "column_2 = EthiopiaData[\"price\"]\n",
    "correlation = column_1.corr(column_2)\n",
    "print(correlation)"
   ]
  },
  {
   "cell_type": "markdown",
   "metadata": {},
   "source": [
    "## Categorical Analysis\n",
    "Explain the ways we broke up the data"
   ]
  },
  {
   "cell_type": "markdown",
   "metadata": {},
   "source": [
    "### Dairy Analysis"
   ]
  },
  {
   "cell_type": "markdown",
   "metadata": {},
   "source": [
    "The dairy products have been selected via an online list from https://www.listchallenges.com/. Each food item included the name, price, country of origin, and the date of said price. All of the data was converted to lowercase and any detailed post-fixes were removed to allow smoother merging for analysis sake"
   ]
  },
  {
   "cell_type": "markdown",
   "metadata": {},
   "source": [
    "### Grains Analysis"
   ]
  },
  {
   "cell_type": "markdown",
   "metadata": {},
   "source": [
    "### Meat Analysis"
   ]
  },
  {
   "cell_type": "markdown",
   "metadata": {},
   "source": [
    "Meat products where also selected from the online list talked about above. "
   ]
  },
  {
   "cell_type": "markdown",
   "metadata": {},
   "source": [
    "### Vegetables and Fruits Analysis"
   ]
  }
 ],
 "metadata": {
  "kernelspec": {
   "display_name": "Python 3",
   "language": "python",
   "name": "python3"
  },
  "language_info": {
   "codemirror_mode": {
    "name": "ipython",
    "version": 3
   },
   "file_extension": ".py",
   "mimetype": "text/x-python",
   "name": "python",
   "nbconvert_exporter": "python",
   "pygments_lexer": "ipython3",
   "version": "3.6.7"
  }
 },
 "nbformat": 4,
 "nbformat_minor": 4
}
