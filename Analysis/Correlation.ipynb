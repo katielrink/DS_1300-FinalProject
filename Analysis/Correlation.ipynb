{
 "cells": [
  {
   "cell_type": "markdown",
   "metadata": {},
   "source": [
    "# Correlation Between Corruption and Food Prices\n",
    "By Harshal Patel, Sabrina Almazan, Isis Kazadi, Katie Rink"
   ]
  },
  {
   "cell_type": "markdown",
   "metadata": {},
   "source": [
    "Here we will write what we are attempting to do"
   ]
  },
  {
   "cell_type": "code",
   "execution_count": 63,
   "metadata": {},
   "outputs": [],
   "source": [
    "#imports\n",
    "import pandas as pd\n",
    "import numpy as np"
   ]
  },
  {
   "cell_type": "markdown",
   "metadata": {},
   "source": [
    "### Creating Datasets\n",
    "Here we will write a brief description of the data sets"
   ]
  },
  {
   "cell_type": "code",
   "execution_count": 64,
   "metadata": {},
   "outputs": [],
   "source": [
    "#Read in Data\n",
    "PriceData = pd.read_csv('../Data/global_food_prices.csv', low_memory=False)\n",
    "CorruptData = pd.read_csv('../Data/Corruption_Index.csv', low_memory=False)\n",
    "Categories = pd.read_csv('../Data/FoodTypes.csv', low_memory=False)"
   ]
  },
  {
   "cell_type": "markdown",
   "metadata": {},
   "source": [
    "### Clean Data\n",
    "Explain decisions we made about countries"
   ]
  },
  {
   "cell_type": "code",
   "execution_count": 65,
   "metadata": {},
   "outputs": [
    {
     "data": {
      "text/html": [
       "<div>\n",
       "<style scoped>\n",
       "    .dataframe tbody tr th:only-of-type {\n",
       "        vertical-align: middle;\n",
       "    }\n",
       "\n",
       "    .dataframe tbody tr th {\n",
       "        vertical-align: top;\n",
       "    }\n",
       "\n",
       "    .dataframe thead th {\n",
       "        text-align: right;\n",
       "    }\n",
       "</style>\n",
       "<table border=\"1\" class=\"dataframe\">\n",
       "  <thead>\n",
       "    <tr style=\"text-align: right;\">\n",
       "      <th></th>\n",
       "      <th>Country_ID</th>\n",
       "      <th>Country</th>\n",
       "      <th>Item_ID</th>\n",
       "      <th>Item</th>\n",
       "      <th>price</th>\n",
       "      <th>date</th>\n",
       "      <th>Year</th>\n",
       "    </tr>\n",
       "  </thead>\n",
       "  <tbody>\n",
       "    <tr>\n",
       "      <th>417258</th>\n",
       "      <td>52.0</td>\n",
       "      <td>china</td>\n",
       "      <td>84</td>\n",
       "      <td>wheat</td>\n",
       "      <td>2.6567</td>\n",
       "      <td>2014-01-01</td>\n",
       "      <td>2014</td>\n",
       "    </tr>\n",
       "    <tr>\n",
       "      <th>417259</th>\n",
       "      <td>52.0</td>\n",
       "      <td>china</td>\n",
       "      <td>84</td>\n",
       "      <td>wheat</td>\n",
       "      <td>2.6100</td>\n",
       "      <td>2014-02-01</td>\n",
       "      <td>2014</td>\n",
       "    </tr>\n",
       "    <tr>\n",
       "      <th>417260</th>\n",
       "      <td>52.0</td>\n",
       "      <td>china</td>\n",
       "      <td>84</td>\n",
       "      <td>wheat</td>\n",
       "      <td>2.6160</td>\n",
       "      <td>2014-03-01</td>\n",
       "      <td>2014</td>\n",
       "    </tr>\n",
       "    <tr>\n",
       "      <th>417261</th>\n",
       "      <td>52.0</td>\n",
       "      <td>china</td>\n",
       "      <td>84</td>\n",
       "      <td>wheat</td>\n",
       "      <td>2.5700</td>\n",
       "      <td>2014-04-01</td>\n",
       "      <td>2014</td>\n",
       "    </tr>\n",
       "    <tr>\n",
       "      <th>417262</th>\n",
       "      <td>52.0</td>\n",
       "      <td>china</td>\n",
       "      <td>84</td>\n",
       "      <td>wheat</td>\n",
       "      <td>2.5400</td>\n",
       "      <td>2014-05-01</td>\n",
       "      <td>2014</td>\n",
       "    </tr>\n",
       "  </tbody>\n",
       "</table>\n",
       "</div>"
      ],
      "text/plain": [
       "        Country_ID Country  Item_ID   Item   price       date  Year\n",
       "417258        52.0   china       84  wheat  2.6567 2014-01-01  2014\n",
       "417259        52.0   china       84  wheat  2.6100 2014-02-01  2014\n",
       "417260        52.0   china       84  wheat  2.6160 2014-03-01  2014\n",
       "417261        52.0   china       84  wheat  2.5700 2014-04-01  2014\n",
       "417262        52.0   china       84  wheat  2.5400 2014-05-01  2014"
      ]
     },
     "execution_count": 65,
     "metadata": {},
     "output_type": "execute_result"
    }
   ],
   "source": [
    "#Cleaning Values for Price Data\n",
    "#Combine months and years into Date column\n",
    "PriceData[\"date\"] = pd.to_datetime(PriceData.mp_year.astype(str) + '/' + PriceData.mp_month.astype(str) + '/01')\n",
    "#Only include chosen countries\n",
    "PriceData = PriceData[PriceData['adm0_name'].isin(['Sudan', 'Mexico', 'China', 'Iraq', 'Ethiopia'])]\n",
    "#Only include Chosen Years\n",
    "PriceData = PriceData[PriceData[\"date\"].isin(pd.date_range('2013-01-01','2021-01-01'))]\n",
    "\n",
    "#Drop unused columns\n",
    "PriceData = PriceData.drop('mp_year', 1)\n",
    "PriceData = PriceData.drop('mp_month', 1)\n",
    "PriceData = PriceData.drop('adm1_id', 1)\n",
    "PriceData = PriceData.drop('adm1_name', 1)\n",
    "PriceData = PriceData.drop('mkt_id', 1)\n",
    "PriceData = PriceData.drop('mkt_name', 1)\n",
    "PriceData = PriceData.drop('cur_id', 1)\n",
    "PriceData = PriceData.drop('cur_name', 1)\n",
    "PriceData = PriceData.drop('pt_id', 1)\n",
    "PriceData = PriceData.drop('pt_name', 1)\n",
    "PriceData = PriceData.drop('um_id', 1)\n",
    "PriceData = PriceData.drop('um_name', 1)\n",
    "PriceData = PriceData.drop('mp_commoditysource', 1)\n",
    "#Put all values to lower case\n",
    "PriceData = PriceData.applymap(lambda s: s.lower() if type(s) == str else s)\n",
    "Categories = Categories.applymap(lambda s: s.lower() if type(s) == str else s)\n",
    "#Shorten the names of the cm_name\n",
    "PriceData['cm_name'] = PriceData['cm_name'].str.split(' -').str.get(0)\n",
    "#renaming column headers to more understandable\n",
    "PriceData.rename(columns={'adm0_id': 'Country_ID', 'adm0_name': 'Country', 'cm_id':'Item_ID','cm_name':'Item','mp_price':'price'}, inplace=True)\n",
    "\n",
    "#Create a value of year value to allow merge\n",
    "PriceData['Year'] = pd.DatetimeIndex(PriceData['date']).year\n",
    "\n",
    "PriceData.head()"
   ]
  },
  {
   "cell_type": "code",
   "execution_count": 66,
   "metadata": {},
   "outputs": [
    {
     "name": "stderr",
     "output_type": "stream",
     "text": [
      "/hpc/applications/anaconda/3/lib/python3.6/site-packages/ipykernel_launcher.py:27: FutureWarning: set_value is deprecated and will be removed in a future release. Please use .at[] or .iat[] accessors instead\n"
     ]
    },
    {
     "data": {
      "text/html": [
       "<div>\n",
       "<style scoped>\n",
       "    .dataframe tbody tr th:only-of-type {\n",
       "        vertical-align: middle;\n",
       "    }\n",
       "\n",
       "    .dataframe tbody tr th {\n",
       "        vertical-align: top;\n",
       "    }\n",
       "\n",
       "    .dataframe thead th {\n",
       "        text-align: right;\n",
       "    }\n",
       "</style>\n",
       "<table border=\"1\" class=\"dataframe\">\n",
       "  <thead>\n",
       "    <tr style=\"text-align: right;\">\n",
       "      <th></th>\n",
       "      <th>Country</th>\n",
       "      <th>Year</th>\n",
       "      <th>CPI Score</th>\n",
       "    </tr>\n",
       "  </thead>\n",
       "  <tbody>\n",
       "    <tr>\n",
       "      <th>0</th>\n",
       "      <td>china</td>\n",
       "      <td>2013</td>\n",
       "      <td>40</td>\n",
       "    </tr>\n",
       "    <tr>\n",
       "      <th>10</th>\n",
       "      <td>china</td>\n",
       "      <td>2014</td>\n",
       "      <td>36</td>\n",
       "    </tr>\n",
       "    <tr>\n",
       "      <th>15</th>\n",
       "      <td>china</td>\n",
       "      <td>2015</td>\n",
       "      <td>37</td>\n",
       "    </tr>\n",
       "    <tr>\n",
       "      <th>20</th>\n",
       "      <td>china</td>\n",
       "      <td>2016</td>\n",
       "      <td>40</td>\n",
       "    </tr>\n",
       "    <tr>\n",
       "      <th>5</th>\n",
       "      <td>china</td>\n",
       "      <td>2017</td>\n",
       "      <td>41</td>\n",
       "    </tr>\n",
       "  </tbody>\n",
       "</table>\n",
       "</div>"
      ],
      "text/plain": [
       "   Country  Year CPI Score\n",
       "0    china  2013        40\n",
       "10   china  2014        36\n",
       "15   china  2015        37\n",
       "20   china  2016        40\n",
       "5    china  2017        41"
      ]
     },
     "execution_count": 66,
     "metadata": {},
     "output_type": "execute_result"
    }
   ],
   "source": [
    "#Cleaning Data for corruptiong index\n",
    "#Only include chosen countries\n",
    "CorruptData = CorruptData[CorruptData['Country'].isin(['Sudan', 'Mexico', 'China', 'Iraq', 'Ethiopia'])]\n",
    "#Only include chosen years\n",
    "CorruptData = CorruptData.filter(regex='2013|2014|2015|2016|2017|2018|2019|2020|Country')\n",
    "#Only looking at CPI score\n",
    "CorruptData = CorruptData.filter(regex='Country|CPI')\n",
    "#Make all values lower case\n",
    "CorruptData = CorruptData.applymap(lambda s: s.lower() if type(s) == str else s)\n",
    "\n",
    "#Correct Indexes\n",
    "CorruptData = CorruptData.reset_index()\n",
    "\n",
    "#Make header years only\n",
    "CorruptData = CorruptData.rename(columns = lambda x: x.replace('CPI score ', ''))\n",
    "CorruptData = CorruptData.rename(columns = lambda x: x.replace('CPI Score ', ''))\n",
    "CorruptData = CorruptData.rename(columns = lambda x: x.replace(' ', ''))\n",
    "\n",
    "#Create new dataset making year and country columns to graph\n",
    "modified = CorruptData.filter(['Country'], axis=1)\n",
    "modified = pd.concat([modified]*5, ignore_index=True)\n",
    "modified = modified.sort_values(by='Country')\n",
    "modified.insert(1, 'Year', [2013, 2014, 2015, 2016, 2017]*5)\n",
    "modified['CPI Score'] = ''\n",
    "\n",
    "for index, row in modified.iterrows():\n",
    "    modified.set_value(index,'CPI Score', CorruptData.loc[CorruptData['Country'] == row['Country']][str(row['Year'])].values[0])\n",
    "    \n",
    "modified.head()"
   ]
  },
  {
   "cell_type": "code",
   "execution_count": 67,
   "metadata": {},
   "outputs": [],
   "source": [
    "#Merge Datasets together for futher analysis\n",
    "MergedData = pd.merge(PriceData, modified, on=['Country','Year'])"
   ]
  },
  {
   "cell_type": "markdown",
   "metadata": {},
   "source": [
    "### Overall Analysis\n",
    "Explain what trends we see just in regard to CPI and price"
   ]
  },
  {
   "cell_type": "code",
   "execution_count": 68,
   "metadata": {},
   "outputs": [],
   "source": [
    "#Datasets based on Country\n",
    "SudanData = MergedData[MergedData['Country'].isin(['sudan'])]\n",
    "MexicoData = MergedData[MergedData['Country'].isin(['mexico'])]\n",
    "ChinaData = MergedData[MergedData['Country'].isin(['china'])]\n",
    "IraqData = MergedData[MergedData['Country'].isin(['iraq'])]\n",
    "EthiopiaData = MergedData[MergedData['Country'].isin(['ethiopia'])]\n",
    "\n",
    "#Get Average Price\n",
    "SudanData =  SudanData.groupby('Year', as_index=False).agg({'price': 'mean', 'CPI Score': 'first', 'Country': 'first'})\n",
    "MexicoData = MexicoData.groupby('Year', as_index=False).agg({'price': 'mean', 'CPI Score': 'first', 'Country': 'first'})\n",
    "ChinaData = ChinaData.groupby('Year', as_index=False).agg({'price': 'mean', 'CPI Score': 'first', 'Country': 'first'})\n",
    "IraqData = IraqData.groupby('Year', as_index=False).agg({'price': 'mean', 'CPI Score': 'first', 'Country': 'first'})\n",
    "EthiopiaData = EthiopiaData.groupby('Year', as_index=False).agg({'price': 'mean', 'CPI Score': 'first', 'Country': 'first'})"
   ]
  },
  {
   "cell_type": "code",
   "execution_count": 69,
   "metadata": {},
   "outputs": [
    {
     "data": {
      "text/plain": [
       "<matplotlib.axes._subplots.AxesSubplot at 0x2aaaea099fd0>"
      ]
     },
     "execution_count": 69,
     "metadata": {},
     "output_type": "execute_result"
    },
    {
     "data": {
      "image/png": "[encoded data removed]",
      "text/plain": [
       "<Figure size 432x288 with 1 Axes>"
      ]
     },
     "metadata": {
      "needs_background": "light"
     },
     "output_type": "display_data"
    }
   ],
   "source": [
    "#Plot Sudan Correlation between CPI and Price\n",
    "SudanData.plot(x='Year', y=['CPI Score','price'])"
   ]
  },
  {
   "cell_type": "code",
   "execution_count": 70,
   "metadata": {},
   "outputs": [
    {
     "data": {
      "text/plain": [
       "<matplotlib.axes._subplots.AxesSubplot at 0x2aaaea09a9e8>"
      ]
     },
     "execution_count": 70,
     "metadata": {},
     "output_type": "execute_result"
    },
    {
     "data": {
      "image/png": "[encoded data removed]",
      "text/plain": [
       "<Figure size 432x288 with 1 Axes>"
      ]
     },
     "metadata": {
      "needs_background": "light"
     },
     "output_type": "display_data"
    }
   ],
   "source": [
    "#Plot Mexico Correlation between CPI and Price\n",
    "MexicoData.plot(x='Year', y=['CPI Score','price'])"
   ]
  },
  {
   "cell_type": "code",
   "execution_count": 71,
   "metadata": {},
   "outputs": [
    {
     "data": {
      "text/plain": [
       "<matplotlib.axes._subplots.AxesSubplot at 0x2aaadaa0ef98>"
      ]
     },
     "execution_count": 71,
     "metadata": {},
     "output_type": "execute_result"
    },
    {
     "data": {
      "image/png": "[encoded data removed]",
      "text/plain": [
       "<Figure size 432x288 with 1 Axes>"
      ]
     },
     "metadata": {
      "needs_background": "light"
     },
     "output_type": "display_data"
    }
   ],
   "source": [
    "#Plot China Correlation between CPI and Price\n",
    "ChinaData.plot(x='Year', y=['CPI Score','price'])"
   ]
  },
  {
   "cell_type": "code",
   "execution_count": 72,
   "metadata": {},
   "outputs": [
    {
     "data": {
      "text/plain": [
       "<matplotlib.axes._subplots.AxesSubplot at 0x2aaada9a04e0>"
      ]
     },
     "execution_count": 72,
     "metadata": {},
     "output_type": "execute_result"
    },
    {
     "data": {
      "image/png": "[encoded data removed]",
      "text/plain": [
       "<Figure size 432x288 with 1 Axes>"
      ]
     },
     "metadata": {
      "needs_background": "light"
     },
     "output_type": "display_data"
    }
   ],
   "source": [
    "#Plot Iraq Correlation between CPI and Price\n",
    "IraqData.plot(x='Year', y=['CPI Score','price'])"
   ]
  },
  {
   "cell_type": "code",
   "execution_count": 73,
   "metadata": {},
   "outputs": [
    {
     "data": {
      "text/plain": [
       "<matplotlib.axes._subplots.AxesSubplot at 0x2aaada7203c8>"
      ]
     },
     "execution_count": 73,
     "metadata": {},
     "output_type": "execute_result"
    },
    {
     "data": {
      "image/png": "[encoded data removed]",
      "text/plain": [
       "<Figure size 432x288 with 1 Axes>"
      ]
     },
     "metadata": {
      "needs_background": "light"
     },
     "output_type": "display_data"
    }
   ],
   "source": [
    "#Plot Ethiopia Correlation between CPI and Price\n",
    "EthiopiaData.plot(x='Year', y=['CPI Score','price'])"
   ]
  },
  {
   "cell_type": "markdown",
   "metadata": {},
   "source": [
    "## Categorical Analysis\n",
    "Explain the ways we broke up the data"
   ]
  },
  {
   "cell_type": "markdown",
   "metadata": {},
   "source": [
    "### Dairy Analysis"
   ]
  },
  {
   "cell_type": "markdown",
   "metadata": {},
   "source": [
    "### Grains Analysis"
   ]
  },
  {
   "cell_type": "markdown",
   "metadata": {},
   "source": [
    "### Meat Analysis"
   ]
  },
  {
   "cell_type": "markdown",
   "metadata": {},
   "source": [
    "### Vegetables and Fruits Analysis"
   ]
  }
 ],
 "metadata": {
  "kernelspec": {
   "display_name": "Python 3",
   "language": "python",
   "name": "python3"
  },
  "language_info": {
   "codemirror_mode": {
    "name": "ipython",
    "version": 3
   },
   "file_extension": ".py",
   "mimetype": "text/x-python",
   "name": "python",
   "nbconvert_exporter": "python",
   "pygments_lexer": "ipython3",
   "version": "3.6.7"
  }
 },
 "nbformat": 4,
 "nbformat_minor": 4
}
