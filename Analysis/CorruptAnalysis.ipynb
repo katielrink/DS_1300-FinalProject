{
 "cells": [
  {
   "cell_type": "markdown",
   "metadata": {},
   "source": [
    "# Analysis of Corruption Index\n",
    "By Harshal Patel, Sabrina Almazan, Isis Kazadi, Katie Rink"
   ]
  },
  {
   "cell_type": "code",
   "execution_count": 193,
   "metadata": {},
   "outputs": [],
   "source": [
    "#imports\n",
    "import pandas as pd\n",
    "import numpy as np"
   ]
  },
  {
   "cell_type": "markdown",
   "metadata": {},
   "source": [
    "### Creating Datasets\n",
    "Here we will write a brief description of the data sets"
   ]
  },
  {
   "cell_type": "code",
   "execution_count": 194,
   "metadata": {},
   "outputs": [],
   "source": [
    "#Read in Datas\n",
    "CorruptData = pd.read_csv('../Data/Corruption_Index.csv', low_memory=False)"
   ]
  },
  {
   "cell_type": "markdown",
   "metadata": {},
   "source": [
    "### Clean Data\n",
    "Explain decisions we made about countries"
   ]
  },
  {
   "cell_type": "code",
   "execution_count": 195,
   "metadata": {},
   "outputs": [
    {
     "name": "stderr",
     "output_type": "stream",
     "text": [
      "/hpc/applications/anaconda/3/lib/python3.6/site-packages/ipykernel_launcher.py:24: FutureWarning: set_value is deprecated and will be removed in a future release. Please use .at[] or .iat[] accessors instead\n"
     ]
    }
   ],
   "source": [
    "#Only include chosen countries\n",
    "CorruptData = CorruptData[CorruptData['Country'].isin(['Sudan', 'Mexico', 'China', 'Iraq', 'Ethiopia'])]\n",
    "#Only include chosen years\n",
    "CorruptData = CorruptData.filter(regex='2013|2014|2015|2016|2017|2018|2019|2020|Country')\n",
    "#Only looking at CPI score\n",
    "CorruptData = CorruptData.filter(regex='Country|CPI')\n",
    "\n",
    "#Correct Indexes\n",
    "CorruptData = CorruptData.reset_index()\n",
    "\n",
    "#Make header years only\n",
    "CorruptData = CorruptData.rename(columns = lambda x: x.replace('CPI score ', ''))\n",
    "CorruptData = CorruptData.rename(columns = lambda x: x.replace('CPI Score ', ''))\n",
    "CorruptData = CorruptData.rename(columns = lambda x: x.replace(' ', ''))\n",
    "\n",
    "#Create new dataset making year and country columns to graph\n",
    "modified = CorruptData.filter(['Country'], axis=1)\n",
    "modified = pd.concat([modified]*5, ignore_index=True)\n",
    "modified = modified.sort_values(by='Country')\n",
    "modified.insert(1, 'Year', [2013, 2014, 2015, 2016, 2017]*5)\n",
    "modified['CPI Score'] = ''\n",
    "\n",
    "for index, row in modified.iterrows():\n",
    "    modified.set_value(index,'CPI Score', CorruptData.loc[CorruptData['Country'] == row['Country']][str(row['Year'])].values[0])"
   ]
  },
  {
   "cell_type": "markdown",
   "metadata": {},
   "source": [
    "### Break Up into Analysis\n",
    "Explain why we chose to analyze our individual parts"
   ]
  },
  {
   "cell_type": "code",
   "execution_count": 202,
   "metadata": {},
   "outputs": [
    {
     "data": {
      "image/png": "[encoded data removed]",
      "text/plain": [
       "<Figure size 432x288 with 1 Axes>"
      ]
     },
     "metadata": {
      "needs_background": "light"
     },
     "output_type": "display_data"
    }
   ],
   "source": [
    "#Plot Each Country over year of CPI\n",
    "#Datasets based on Country\n",
    "SudanData = modified[modified['Country'].isin(['Sudan'])]\n",
    "MexicoData = modified[modified['Country'].isin(['Mexico'])]\n",
    "ChinaData = modified[modified['Country'].isin(['China'])]\n",
    "IraqData = modified[modified['Country'].isin(['Iraq'])]\n",
    "EthiopiaData = modified[modified['Country'].isin(['Ethiopia'])]\n",
    "\n",
    "\n",
    "#Plot Prices over years based on category\n",
    "ax = SudanData.plot(x='Year', y='CPI Score')\n",
    "ax = MexicoData.plot(ax=ax, x='Year', y='CPI Score')\n",
    "ax = ChinaData.plot(ax=ax, x='Year', y='CPI Score')\n",
    "ax = IraqData.plot(ax=ax, x='Year', y='CPI Score')\n",
    "EthiopiaData.plot(ax=ax, x='Year', y='CPI Score')\n",
    "ax.legend([\"Sudan\", \"Mexico\", \"China\", \"Iraq\", \"Ethiopia\"]);"
   ]
  },
  {
   "cell_type": "code",
   "execution_count": null,
   "metadata": {},
   "outputs": [],
   "source": []
  },
  {
   "cell_type": "code",
   "execution_count": null,
   "metadata": {},
   "outputs": [],
   "source": []
  }
 ],
 "metadata": {
  "kernelspec": {
   "display_name": "Python 3",
   "language": "python",
   "name": "python3"
  },
  "language_info": {
   "codemirror_mode": {
    "name": "ipython",
    "version": 3
   },
   "file_extension": ".py",
   "mimetype": "text/x-python",
   "name": "python",
   "nbconvert_exporter": "python",
   "pygments_lexer": "ipython3",
   "version": "3.6.7"
  }
 },
 "nbformat": 4,
 "nbformat_minor": 4
}
